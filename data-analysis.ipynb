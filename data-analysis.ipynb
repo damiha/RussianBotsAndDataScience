{
 "cells": [
  {
   "cell_type": "code",
   "execution_count": 170,
   "id": "8f900cab",
   "metadata": {},
   "outputs": [],
   "source": [
    "import json\n",
    "import spacy\n",
    "import os\n",
    "import numpy as np"
   ]
  },
  {
   "cell_type": "code",
   "execution_count": 171,
   "id": "df63db05",
   "metadata": {},
   "outputs": [],
   "source": [
    "all_comments = []\n",
    "\n",
    "for fn in os.listdir():\n",
    "    \n",
    "    if \"json\" in fn:\n",
    "        \n",
    "        with open(fn, \"r\") as f:\n",
    "            \n",
    "            as_string = f.read()\n",
    "            \n",
    "            if len(as_string.strip()) > 0:\n",
    "            \n",
    "                comment = json.loads(as_string)\n",
    "\n",
    "                all_comments += comment"
   ]
  },
  {
   "cell_type": "code",
   "execution_count": 172,
   "id": "a21c4b26",
   "metadata": {},
   "outputs": [],
   "source": [
    "# hypothesis: users that end with exactly four digits are Russian bots\n",
    "def is_potential_russian_bot(username):\n",
    "    return len(username) > 4 and username[-4:].isdigit() and not username[-5:].isdigit()"
   ]
  },
  {
   "cell_type": "code",
   "execution_count": 173,
   "id": "46a5bd0f",
   "metadata": {},
   "outputs": [],
   "source": [
    "bot_comments = list(map(lambda c: c[1], list(filter(lambda c: is_potential_russian_bot(c[0]), all_comments))))"
   ]
  },
  {
   "cell_type": "code",
   "execution_count": 174,
   "id": "de51bf56",
   "metadata": {},
   "outputs": [],
   "source": [
    "# Load the spaCy model\n",
    "nlp = spacy.load(\"en_core_web_sm\")"
   ]
  },
  {
   "cell_type": "code",
   "execution_count": 175,
   "id": "dab5f347",
   "metadata": {},
   "outputs": [],
   "source": [
    "# multiple nouns if a noun can be spelled multiple different ways\n",
    "# e.g. the name of the Ukrainian president\n",
    "def find_adjectives_and_distances_to_noun(text, nouns):\n",
    "    \n",
    "    nouns = list(map(lambda n: n.lower(), nouns))\n",
    "    \n",
    "    adjectives_and_distances = []\n",
    "    \n",
    "    if all(noun not in text.lower() for noun in nouns):\n",
    "        return adjectives_and_distances\n",
    "    \n",
    "    noun_indices = []\n",
    "    \n",
    "    doc = nlp(text)\n",
    "    \n",
    "    for i, token in enumerate(doc):\n",
    "        \n",
    "        if token.pos_ == \"PROPN\" and token.text.lower() in nouns:\n",
    "            \n",
    "            noun_indices.append(i)\n",
    "            \n",
    "    if len(noun_indices) > 0:\n",
    "        \n",
    "        adjectives_and_positions = [(j, token.text) for j, token in enumerate(doc) if token.pos_ == \"ADJ\"]\n",
    "        \n",
    "        for index in noun_indices:\n",
    "            \n",
    "            for adj_index, adj in adjectives_and_positions:\n",
    "                \n",
    "                adjectives_and_distances.append((adj, abs(index - adj_index)))\n",
    "\n",
    "    return adjectives_and_distances"
   ]
  },
  {
   "cell_type": "code",
   "execution_count": 176,
   "id": "eadc9a07",
   "metadata": {},
   "outputs": [],
   "source": [
    "def find_all_distances_to_adjectives(comments, nouns):\n",
    "    \n",
    "    adjectives_and_distances = []\n",
    "    \n",
    "    for comment in comments:\n",
    "        \n",
    "        adjectives_and_distances += find_adjectives_and_distances_to_noun(comment, nouns)\n",
    "        \n",
    "    return adjectives_and_distances"
   ]
  },
  {
   "cell_type": "code",
   "execution_count": 177,
   "id": "acf4f130",
   "metadata": {},
   "outputs": [],
   "source": [
    "def reduce_distances_to_adjectives(distances_to_adjectives):\n",
    "    \n",
    "    unique_word_distances = dict()\n",
    "    \n",
    "    # take mean distance if word appears multiple times\n",
    "    for word, distance in distances_to_adjectives:\n",
    "        \n",
    "        if word not in unique_word_distances:\n",
    "            \n",
    "            unique_word_distances[word] = [distance]\n",
    "            \n",
    "        else:\n",
    "            unique_word_distances[word].append(distance)\n",
    "    \n",
    "    metrics = []\n",
    "    \n",
    "    for word, distances in unique_word_distances.items():\n",
    "        \n",
    "        mean_distance = sum(distances) / len(distances)\n",
    "        std_distance = np.std(np.array(distances))\n",
    "        median_distance = sorted(distances)[len(distances) // 2]\n",
    "        \n",
    "        metrics.append((word, mean_distance, std_distance, median_distance))\n",
    "        \n",
    "    return metrics"
   ]
  },
  {
   "cell_type": "code",
   "execution_count": 178,
   "id": "243dae1d",
   "metadata": {},
   "outputs": [],
   "source": [
    "def get_metrics(comments, nouns):\n",
    "    \n",
    "    adjectives_and_distances = find_all_distances_to_adjectives(comments, nouns)\n",
    "    return reduce_distances_to_adjectives(adjectives_and_distances)"
   ]
  },
  {
   "cell_type": "code",
   "execution_count": 181,
   "id": "07f48894",
   "metadata": {},
   "outputs": [],
   "source": [
    "def print_metrics(comments, word, top_k = 10):\n",
    "    \n",
    "    metrics = get_metrics(comments, word)\n",
    "    \n",
    "    # we need a non-zero standard deviation to asses uncertainty\n",
    "    metrics = list(filter(lambda t: t[2] > 0, metrics))\n",
    "    \n",
    "     # Assuming `top_k`, `word`, and `metrics` are defined\n",
    "    print(f\"The {top_k} nearest adjectives to the word {word}\")\n",
    "    print(\"By mean distance:\")\n",
    "\n",
    "    by_mean_distance = sorted(metrics, key=lambda t: t[1])[:top_k]\n",
    "\n",
    "    for i, (w, mean, std, median) in enumerate(by_mean_distance):\n",
    "        print(f\"{i + 1}. {w:20}: mean distance = {mean:6.2f}, std distance = {std:6.2f}\")\n",
    "\n",
    "    print()\n",
    "    print(\"By median distance:\")\n",
    "\n",
    "    by_median_distance = sorted(metrics, key=lambda t: t[3])[:top_k]\n",
    "\n",
    "    for i, (w, mean, std, median) in enumerate(by_median_distance):\n",
    "        print(f\"{i + 1}. {w:20}: median = {median:6.2f}, std distance = {std:6.2f}\")"
   ]
  },
  {
   "cell_type": "code",
   "execution_count": 186,
   "id": "556f9d75",
   "metadata": {
    "scrolled": true
   },
   "outputs": [
    {
     "name": "stdout",
     "output_type": "stream",
     "text": [
      "The 10 nearest adjectives to the word ['Vladimir', 'Putin']\n",
      "By mean distance:\n",
      "1. pure                : mean distance =   3.50, std distance =   1.50\n",
      "2. best                : mean distance =   4.00, std distance =   4.05\n",
      "3. glad                : mean distance =   4.33, std distance =   1.70\n",
      "4. lifelong            : mean distance =   4.50, std distance =   3.50\n",
      "5. New                 : mean distance =   4.50, std distance =   2.50\n",
      "6. personal            : mean distance =   4.50, std distance =   0.50\n",
      "7. scared              : mean distance =   5.25, std distance =   3.34\n",
      "8. ok                  : mean distance =   7.50, std distance =   2.50\n",
      "9. jealous             : mean distance =   7.50, std distance =   0.50\n",
      "10. wise                : mean distance =   8.00, std distance =   5.00\n",
      "\n",
      "By median distance:\n",
      "1. best                : median =   2.00, std distance =   4.05\n",
      "2. scared              : median =   4.00, std distance =   3.34\n",
      "3. timid               : median =   4.00, std distance =  11.15\n",
      "4. glad                : median =   5.00, std distance =   1.70\n",
      "5. surprising          : median =   5.00, std distance =  15.33\n",
      "6. personal            : median =   5.00, std distance =   0.50\n",
      "7. pure                : median =   5.00, std distance =   1.50\n",
      "8. right               : median =   6.00, std distance =  14.80\n",
      "9. least               : median =   7.00, std distance =  16.03\n",
      "10. smart               : median =   7.00, std distance =   5.56\n"
     ]
    }
   ],
   "source": [
    "print_metrics(bot_comments, [\"Vladimir\", \"Putin\"])"
   ]
  },
  {
   "cell_type": "code",
   "execution_count": 206,
   "id": "9745ac1b",
   "metadata": {},
   "outputs": [
    {
     "name": "stdout",
     "output_type": "stream",
     "text": [
      "The 10 nearest adjectives to the word ['Tucker', 'Carlson']\n",
      "By mean distance:\n",
      "1. exact               : mean distance =   4.50, std distance =   0.50\n",
      "2. western             : mean distance =   5.50, std distance =   0.50\n",
      "3. Interesting         : mean distance =   5.50, std distance =   0.50\n",
      "4. weird               : mean distance =   5.50, std distance =   0.50\n",
      "5. calm                : mean distance =   7.50, std distance =   0.50\n",
      "6. normal              : mean distance =   7.50, std distance =   0.50\n",
      "7. popular             : mean distance =   8.50, std distance =   2.50\n",
      "8. controversial       : mean distance =   8.50, std distance =   7.50\n",
      "9. only                : mean distance =   9.50, std distance =   8.99\n",
      "10. bad                 : mean distance =  10.00, std distance =   9.19\n",
      "\n",
      "By median distance:\n",
      "1. meager              : median =   4.00, std distance =  23.81\n",
      "2. only                : median =   5.00, std distance =   8.99\n",
      "3. exact               : median =   5.00, std distance =   0.50\n",
      "4. western             : median =   6.00, std distance =   0.50\n",
      "5. right               : median =   6.00, std distance =  10.68\n",
      "6. Interesting         : median =   6.00, std distance =   0.50\n",
      "7. shallow             : median =   6.00, std distance =  39.13\n",
      "8. weird               : median =   6.00, std distance =   0.50\n",
      "9. calm                : median =   8.00, std distance =   0.50\n",
      "10. toxic               : median =   8.00, std distance =  38.22\n"
     ]
    }
   ],
   "source": [
    "print_metrics(bot_comments, [\"Tucker\", \"Carlson\"])"
   ]
  },
  {
   "cell_type": "code",
   "execution_count": 207,
   "id": "e7fb9c06",
   "metadata": {},
   "outputs": [
    {
     "name": "stdout",
     "output_type": "stream",
     "text": [
      "The 10 nearest adjectives to the word ['Zelensky', 'Zelenskiy', 'Zelenskyy', 'Volodymyr']\n",
      "By mean distance:\n",
      "1. more                : mean distance =  11.50, std distance =   6.50\n",
      "2. ready               : mean distance =  13.50, std distance =   6.50\n",
      "3. first               : mean distance =  17.50, std distance =   4.50\n",
      "4. former              : mean distance =  22.50, std distance =  17.50\n",
      "5. real                : mean distance =  24.50, std distance =   7.50\n",
      "6. Western             : mean distance =  35.33, std distance =  24.23\n",
      "\n",
      "By median distance:\n",
      "1. more                : median =  18.00, std distance =   6.50\n",
      "2. ready               : median =  20.00, std distance =   6.50\n",
      "3. first               : median =  22.00, std distance =   4.50\n",
      "4. real                : median =  32.00, std distance =   7.50\n",
      "5. Western             : median =  39.00, std distance =  24.23\n",
      "6. former              : median =  40.00, std distance =  17.50\n"
     ]
    }
   ],
   "source": [
    "print_metrics(bot_comments, [\"Zelensky\", \"Zelenskiy\", \"Zelenskyy\", \"Volodymyr\"])"
   ]
  },
  {
   "cell_type": "code",
   "execution_count": 208,
   "id": "0cb8b805",
   "metadata": {},
   "outputs": [
    {
     "name": "stdout",
     "output_type": "stream",
     "text": [
      "The 10 nearest adjectives to the word ['Trump']\n",
      "By mean distance:\n",
      "1. first               : mean distance =   4.00, std distance =   1.41\n",
      "2. able                : mean distance =   4.00, std distance =   2.00\n",
      "3. intelligent         : mean distance =   8.50, std distance =   5.50\n",
      "4. successful          : mean distance =  10.00, std distance =   6.00\n",
      "5. decisive            : mean distance =  10.50, std distance =   5.50\n",
      "6. latter              : mean distance =  10.50, std distance =   0.50\n",
      "7. afraid              : mean distance =  10.50, std distance =   8.50\n",
      "8. diplomatic          : mean distance =  11.50, std distance =   5.50\n",
      "9. strong              : mean distance =  12.00, std distance =   4.00\n",
      "10. constant            : mean distance =  12.00, std distance =   7.00\n",
      "\n",
      "By median distance:\n",
      "1. first               : median =   5.00, std distance =   1.41\n",
      "2. able                : median =   6.00, std distance =   2.00\n",
      "3. deep                : median =  11.00, std distance =  36.81\n",
      "4. latter              : median =  11.00, std distance =   0.50\n",
      "5. illegal             : median =  11.00, std distance =  14.06\n",
      "6. communist           : median =  11.00, std distance =  14.68\n",
      "7. global              : median =  13.00, std distance =   1.00\n",
      "8. normal              : median =  13.00, std distance =   1.00\n",
      "9. great               : median =  14.00, std distance =   8.58\n",
      "10. intelligent         : median =  14.00, std distance =   5.50\n"
     ]
    }
   ],
   "source": [
    "print_metrics(bot_comments, [\"Trump\"])"
   ]
  },
  {
   "cell_type": "code",
   "execution_count": 209,
   "id": "c7d987bb",
   "metadata": {},
   "outputs": [
    {
     "name": "stdout",
     "output_type": "stream",
     "text": [
      "The 10 nearest adjectives to the word ['Joe', 'Biden']\n",
      "By mean distance:\n",
      "1. competent           : mean distance =   3.00, std distance =   1.00\n",
      "2. Corrupt             : mean distance =   3.50, std distance =   0.50\n",
      "3. Open                : mean distance =   4.50, std distance =   0.50\n",
      "4. inside              : mean distance =   4.50, std distance =   1.50\n",
      "5. worse               : mean distance =   5.50, std distance =   0.50\n",
      "6. sleepy              : mean distance =   7.00, std distance =   5.52\n",
      "7. deep                : mean distance =   9.50, std distance =   0.50\n",
      "8. loyal               : mean distance =  10.50, std distance =   7.50\n",
      "9. terrible            : mean distance =  12.50, std distance =   0.50\n",
      "10. current             : mean distance =  13.50, std distance =   0.50\n",
      "\n",
      "By median distance:\n",
      "1. illegal             : median =   2.00, std distance =  27.58\n",
      "2. competent           : median =   4.00, std distance =   1.00\n",
      "3. Corrupt             : median =   4.00, std distance =   0.50\n",
      "4. Open                : median =   5.00, std distance =   0.50\n",
      "5. worse               : median =   6.00, std distance =   0.50\n",
      "6. inside              : median =   6.00, std distance =   1.50\n",
      "7. deep                : median =  10.00, std distance =   0.50\n",
      "8. sleepy              : median =  12.00, std distance =   5.52\n",
      "9. terrible            : median =  13.00, std distance =   0.50\n",
      "10. real                : median =  14.00, std distance =  20.79\n"
     ]
    }
   ],
   "source": [
    "print_metrics(bot_comments, [\"Joe\", \"Biden\"])"
   ]
  },
  {
   "cell_type": "code",
   "execution_count": 210,
   "id": "a46aced0",
   "metadata": {},
   "outputs": [
    {
     "name": "stdout",
     "output_type": "stream",
     "text": [
      "The 10 nearest adjectives to the word ['Scholz', 'Olaf']\n",
      "By mean distance:\n",
      "1. scared              : mean distance =   2.50, std distance =   0.50\n",
      "2. weak                : mean distance =   5.50, std distance =   0.50\n",
      "3. western             : mean distance =   9.50, std distance =   0.50\n",
      "4. nein                : mean distance =  15.50, std distance =   0.50\n",
      "5. little              : mean distance =  18.00, std distance =  16.00\n",
      "6. drei                : mean distance =  27.50, std distance =   0.50\n",
      "\n",
      "By median distance:\n",
      "1. scared              : median =   3.00, std distance =   0.50\n",
      "2. weak                : median =   6.00, std distance =   0.50\n",
      "3. western             : median =  10.00, std distance =   0.50\n",
      "4. nein                : median =  16.00, std distance =   0.50\n",
      "5. drei                : median =  28.00, std distance =   0.50\n",
      "6. little              : median =  34.00, std distance =  16.00\n"
     ]
    }
   ],
   "source": [
    "print_metrics(bot_comments, [\"Scholz\", \"Olaf\"])"
   ]
  },
  {
   "cell_type": "code",
   "execution_count": 211,
   "id": "00a52c86",
   "metadata": {},
   "outputs": [
    {
     "name": "stdout",
     "output_type": "stream",
     "text": [
      "The 10 nearest adjectives to the word ['Johnson', 'Boris']\n",
      "By mean distance:\n",
      "1. Fucking             : mean distance =   1.50, std distance =   0.50\n",
      "2. busy                : mean distance =   2.50, std distance =   0.50\n",
      "3. 8th                 : mean distance =   4.50, std distance =   0.50\n",
      "4. ill                 : mean distance =   5.50, std distance =   0.50\n",
      "5. Responsible         : mean distance =   5.50, std distance =   0.50\n",
      "6. proxy               : mean distance =   7.40, std distance =   3.20\n",
      "7. 27th                : mean distance =   7.50, std distance =   0.50\n",
      "8. many                : mean distance =   8.50, std distance =   0.50\n",
      "9. more                : mean distance =   9.50, std distance =   3.04\n",
      "10. Best                : mean distance =  12.50, std distance =   0.50\n",
      "\n",
      "By median distance:\n",
      "1. Fucking             : median =   2.00, std distance =   0.50\n",
      "2. busy                : median =   3.00, std distance =   0.50\n",
      "3. real                : median =   4.00, std distance =  74.25\n",
      "4. proxy               : median =   5.00, std distance =   3.20\n",
      "5. 8th                 : median =   5.00, std distance =   0.50\n",
      "6. ill                 : median =   6.00, std distance =   0.50\n",
      "7. few                 : median =   6.00, std distance =  14.38\n",
      "8. Responsible         : median =   6.00, std distance =   0.50\n",
      "9. 27th                : median =   8.00, std distance =   0.50\n",
      "10. many                : median =   9.00, std distance =   0.50\n"
     ]
    }
   ],
   "source": [
    "print_metrics(bot_comments, [\"Johnson\", \"Boris\"])"
   ]
  },
  {
   "cell_type": "code",
   "execution_count": 212,
   "id": "a134740f",
   "metadata": {},
   "outputs": [
    {
     "name": "stdout",
     "output_type": "stream",
     "text": [
      "The 10 nearest adjectives to the word ['Alexei', 'Alexej', 'Navalny']\n",
      "By mean distance:\n",
      "1. sad                 : mean distance =   6.00, std distance =   4.32\n",
      "2. covid               : mean distance =   6.50, std distance =   0.50\n",
      "3. same                : mean distance =  11.89, std distance =  10.69\n",
      "4. long                : mean distance =  12.50, std distance =  10.50\n",
      "5. most                : mean distance =  13.50, std distance =   0.50\n",
      "6. sure                : mean distance =  14.50, std distance =   0.50\n",
      "7. full                : mean distance =  15.50, std distance =   0.50\n",
      "8. brave               : mean distance =  15.75, std distance =   3.83\n",
      "9. young               : mean distance =  17.00, std distance =   1.00\n",
      "10. many                : mean distance =  18.00, std distance =   0.82\n",
      "\n",
      "By median distance:\n",
      "1. sad                 : median =   4.00, std distance =   4.32\n",
      "2. same                : median =   6.00, std distance =  10.69\n",
      "3. covid               : median =   7.00, std distance =   0.50\n",
      "4. Russian             : median =  14.00, std distance =  16.36\n",
      "5. most                : median =  14.00, std distance =   0.50\n",
      "6. sure                : median =  15.00, std distance =   0.50\n",
      "7. full                : median =  16.00, std distance =   0.50\n",
      "8. many                : median =  18.00, std distance =   0.82\n",
      "9. young               : median =  18.00, std distance =   1.00\n",
      "10. brave               : median =  19.00, std distance =   3.83\n"
     ]
    }
   ],
   "source": [
    "print_metrics(bot_comments, [\"Alexei\", \"Alexej\", \"Navalny\"])"
   ]
  },
  {
   "cell_type": "code",
   "execution_count": 213,
   "id": "7c4483f9",
   "metadata": {},
   "outputs": [
    {
     "name": "stdout",
     "output_type": "stream",
     "text": [
      "The 10 nearest adjectives to the word ['Russia', 'russian']\n",
      "By mean distance:\n",
      "1. certain             : mean distance =   5.50, std distance =   1.50\n",
      "2. afraid              : mean distance =   6.71, std distance =   4.95\n",
      "3. stronger            : mean distance =   7.00, std distance =   5.00\n",
      "4. crazy               : mean distance =   7.00, std distance =   5.00\n",
      "5. average             : mean distance =   7.00, std distance =   6.00\n",
      "6. horrible            : mean distance =   7.50, std distance =   4.50\n",
      "7. strict              : mean distance =   8.50, std distance =   1.50\n",
      "8. weak                : mean distance =   8.75, std distance =   5.89\n",
      "9. timid               : mean distance =  10.00, std distance =   7.00\n",
      "10. single              : mean distance =  10.33, std distance =   4.78\n",
      "\n",
      "By median distance:\n",
      "1. afraid              : median =   5.00, std distance =   4.95\n",
      "2. last                : median =   6.00, std distance =  23.74\n",
      "3. responsible         : median =   6.00, std distance =  53.98\n",
      "4. certain             : median =   7.00, std distance =   1.50\n",
      "5. single              : median =   8.00, std distance =   4.78\n",
      "6. financial           : median =   9.00, std distance =  18.93\n",
      "7. available           : median =   9.00, std distance =  11.43\n",
      "8. strict              : median =  10.00, std distance =   1.50\n",
      "9. REAL                : median =  10.00, std distance =   8.38\n",
      "10. Collective          : median =  11.00, std distance =  12.44\n"
     ]
    }
   ],
   "source": [
    "print_metrics(bot_comments, [\"Russia\", \"russian\"])"
   ]
  },
  {
   "cell_type": "code",
   "execution_count": 214,
   "id": "9274ad72",
   "metadata": {},
   "outputs": [
    {
     "name": "stdout",
     "output_type": "stream",
     "text": [
      "The 10 nearest adjectives to the word ['Ukraine', 'ukrainian']\n",
      "By mean distance:\n",
      "1. transparent         : mean distance =   5.00, std distance =   2.00\n",
      "2. dangerous           : mean distance =   5.50, std distance =   2.50\n",
      "3. More                : mean distance =   6.00, std distance =   2.00\n",
      "4. poor                : mean distance =   6.50, std distance =   3.50\n",
      "5. previous            : mean distance =   8.33, std distance =   4.92\n",
      "6. last                : mean distance =   8.40, std distance =  10.23\n",
      "7. full                : mean distance =   9.00, std distance =   3.74\n",
      "8. future              : mean distance =  10.75, std distance =   8.79\n",
      "9. socially            : mean distance =  12.00, std distance =   6.98\n",
      "10. smart               : mean distance =  12.33, std distance =   3.86\n",
      "\n",
      "By median distance:\n",
      "1. last                : median =   3.00, std distance =  10.23\n",
      "2. transparent         : median =   7.00, std distance =   2.00\n",
      "3. full                : median =   8.00, std distance =   3.74\n",
      "4. dangerous           : median =   8.00, std distance =   2.50\n",
      "5. More                : median =   8.00, std distance =   2.00\n",
      "6. active              : median =   9.00, std distance =  12.81\n",
      "7. previous            : median =   9.00, std distance =   4.92\n",
      "8. funny               : median =  10.00, std distance =  13.36\n",
      "9. worth               : median =  10.00, std distance =   8.09\n",
      "10. poor                : median =  10.00, std distance =   3.50\n"
     ]
    }
   ],
   "source": [
    "print_metrics(bot_comments, [\"Ukraine\", \"ukrainian\"])"
   ]
  },
  {
   "cell_type": "code",
   "execution_count": 215,
   "id": "dd56d20a",
   "metadata": {
    "scrolled": true
   },
   "outputs": [
    {
     "name": "stdout",
     "output_type": "stream",
     "text": [
      "The 10 nearest adjectives to the word ['United states', 'USA', 'US', 'America']\n",
      "By mean distance:\n",
      "1. western             : mean distance =   4.33, std distance =   2.05\n",
      "2. UNDERSTAND????THIS  : mean distance =   5.00, std distance =   2.00\n",
      "3. anti                : mean distance =   6.00, std distance =   3.08\n",
      "4. awesome             : mean distance =   6.50, std distance =   1.50\n",
      "5. about               : mean distance =   7.00, std distance =   5.00\n",
      "6. primary             : mean distance =   7.50, std distance =   0.50\n",
      "7. crooked             : mean distance =   8.00, std distance =   7.00\n",
      "8. critical            : mean distance =   8.00, std distance =   1.00\n",
      "9. Syrian              : mean distance =   8.50, std distance =   0.50\n",
      "10. drunk               : mean distance =   9.00, std distance =   7.00\n",
      "\n",
      "By median distance:\n",
      "1. western             : median =   4.00, std distance =   2.05\n",
      "2. willing             : median =   5.00, std distance =  13.02\n",
      "3. better              : median =   6.00, std distance =  17.05\n",
      "4. UNDERSTAND????THIS  : median =   7.00, std distance =   2.00\n",
      "5. primary             : median =   8.00, std distance =   0.50\n",
      "6. bigger              : median =   8.00, std distance =   6.68\n",
      "7. awesome             : median =   8.00, std distance =   1.50\n",
      "8. anti                : median =   8.00, std distance =   3.08\n",
      "9. single              : median =   9.00, std distance =   6.27\n",
      "10. worst               : median =   9.00, std distance =  87.70\n"
     ]
    }
   ],
   "source": [
    "print_metrics(bot_comments, [\"United states\", \"USA\", \"US\", \"America\"])"
   ]
  },
  {
   "cell_type": "code",
   "execution_count": 216,
   "id": "93464aca",
   "metadata": {},
   "outputs": [
    {
     "name": "stdout",
     "output_type": "stream",
     "text": [
      "The 10 nearest adjectives to the word ['EU', 'european']\n",
      "By mean distance:\n",
      "1. American            : mean distance =   5.50, std distance =   3.50\n",
      "2. Nuclear             : mean distance =  10.00, std distance =   3.00\n",
      "3. foreign             : mean distance =  10.00, std distance =   7.00\n",
      "4. direct              : mean distance =  13.00, std distance =   7.00\n",
      "5. smart               : mean distance =  13.00, std distance =   5.00\n",
      "6. wise                : mean distance =  13.00, std distance =   7.00\n",
      "7. sad                 : mean distance =  13.00, std distance =  10.00\n",
      "8. whole               : mean distance =  13.50, std distance =  10.50\n",
      "9. Russian             : mean distance =  13.67, std distance =   8.96\n",
      "10. stupid              : mean distance =  14.00, std distance =   8.00\n",
      "\n",
      "By median distance:\n",
      "1. American            : median =   9.00, std distance =   3.50\n",
      "2. Russian             : median =  10.00, std distance =   8.96\n",
      "3. Nuclear             : median =  13.00, std distance =   3.00\n",
      "4. foreign             : median =  17.00, std distance =   7.00\n",
      "5. smart               : median =  18.00, std distance =   5.00\n",
      "6. direct              : median =  20.00, std distance =   7.00\n",
      "7. wise                : median =  20.00, std distance =   7.00\n",
      "8. stupid              : median =  22.00, std distance =   8.00\n",
      "9. sad                 : median =  23.00, std distance =  10.00\n",
      "10. weak                : median =  24.00, std distance =  10.00\n"
     ]
    }
   ],
   "source": [
    "print_metrics(bot_comments, [\"EU\", \"european\"])"
   ]
  },
  {
   "cell_type": "code",
   "execution_count": 200,
   "id": "3c0d4578",
   "metadata": {},
   "outputs": [
    {
     "name": "stdout",
     "output_type": "stream",
     "text": [
      "The 10 nearest adjectives to the word ['NATO']\n",
      "By mean distance:\n",
      "1. direct              : mean distance =   7.00, std distance =   3.00\n",
      "2. proxy               : mean distance =   7.40, std distance =   1.96\n",
      "3. Norwegian           : mean distance =   7.50, std distance =   1.50\n",
      "4. full                : mean distance =   7.67, std distance =   4.50\n",
      "5. agressive           : mean distance =   8.50, std distance =   6.50\n",
      "6. regional            : mean distance =   8.67, std distance =   4.92\n",
      "7. Ukrainian           : mean distance =   9.20, std distance =   3.49\n",
      "8. peaceful            : mean distance =   9.50, std distance =   3.50\n",
      "9. impossible          : mean distance =  10.00, std distance =   3.00\n",
      "10. less                : mean distance =  11.00, std distance =   6.00\n",
      "\n",
      "By median distance:\n",
      "1. diplomatic          : median =   7.00, std distance =  12.28\n",
      "2. full                : median =   8.00, std distance =   4.50\n",
      "3. regional            : median =   8.00, std distance =   4.92\n",
      "4. proxy               : median =   9.00, std distance =   1.96\n",
      "5. Ukrainian           : median =   9.00, std distance =   3.49\n",
      "6. timid               : median =   9.00, std distance =   5.66\n",
      "7. Norwegian           : median =   9.00, std distance =   1.50\n",
      "8. 😂                   : median =  10.00, std distance =  10.50\n",
      "9. direct              : median =  10.00, std distance =   3.00\n",
      "10. funny               : median =  11.00, std distance =  11.12\n"
     ]
    }
   ],
   "source": [
    "print_metrics(bot_comments, [\"NATO\"])"
   ]
  },
  {
   "cell_type": "code",
   "execution_count": 217,
   "id": "52237cc4",
   "metadata": {
    "scrolled": true
   },
   "outputs": [
    {
     "name": "stdout",
     "output_type": "stream",
     "text": [
      "The 10 nearest adjectives to the word ['Germany', 'German']\n",
      "By mean distance:\n",
      "1. afraid              : mean distance =   8.50, std distance =   4.72\n",
      "2. largest             : mean distance =   9.50, std distance =   5.50\n",
      "3. reliant             : mean distance =  10.00, std distance =   5.72\n",
      "4. last                : mean distance =  10.67, std distance =   5.44\n",
      "5. true                : mean distance =  12.33, std distance =   8.34\n",
      "6. same                : mean distance =  12.50, std distance =   8.50\n",
      "7. Russias             : mean distance =  13.50, std distance =   9.50\n",
      "8. Western             : mean distance =  16.50, std distance =   8.50\n",
      "9. political           : mean distance =  18.50, std distance =   9.50\n",
      "10. small               : mean distance =  19.00, std distance =   6.00\n",
      "\n",
      "By median distance:\n",
      "1. true                : median =   8.00, std distance =   8.34\n",
      "2. last                : median =   9.00, std distance =   5.44\n",
      "3. reliant             : median =  10.00, std distance =   5.72\n",
      "4. afraid              : median =  10.00, std distance =   4.72\n",
      "5. largest             : median =  15.00, std distance =   5.50\n",
      "6. Russian             : median =  17.00, std distance =  55.30\n",
      "7. same                : median =  21.00, std distance =   8.50\n",
      "8. Russias             : median =  23.00, std distance =   9.50\n",
      "9. other               : median =  24.00, std distance =  81.80\n",
      "10. Western             : median =  25.00, std distance =   8.50\n"
     ]
    }
   ],
   "source": [
    "print_metrics(bot_comments, [\"Germany\", \"German\"])"
   ]
  },
  {
   "cell_type": "code",
   "execution_count": 218,
   "id": "2cdd4cb5",
   "metadata": {
    "scrolled": true
   },
   "outputs": [
    {
     "name": "stdout",
     "output_type": "stream",
     "text": [
      "The 10 nearest adjectives to the word ['UK', 'United Kingdom', 'Britain']\n",
      "By mean distance:\n",
      "1. covid               : mean distance =   9.00, std distance =   4.00\n",
      "2. few                 : mean distance =  18.50, std distance =  15.50\n",
      "3. missing             : mean distance =  23.00, std distance =   4.00\n",
      "4. more                : mean distance =  31.33, std distance =  37.95\n",
      "5. nuclear             : mean distance =  33.00, std distance =   3.00\n",
      "6. Ukrainian           : mean distance =  37.50, std distance =  30.50\n",
      "7. American            : mean distance =  38.00, std distance =  26.00\n",
      "8. Russian             : mean distance =  56.50, std distance =  43.50\n",
      "9. European            : mean distance =  83.50, std distance =  80.50\n",
      "\n",
      "By median distance:\n",
      "1. more                : median =   5.00, std distance =  37.95\n",
      "2. covid               : median =  13.00, std distance =   4.00\n",
      "3. missing             : median =  27.00, std distance =   4.00\n",
      "4. few                 : median =  34.00, std distance =  15.50\n",
      "5. nuclear             : median =  36.00, std distance =   3.00\n",
      "6. American            : median =  64.00, std distance =  26.00\n",
      "7. Ukrainian           : median =  68.00, std distance =  30.50\n",
      "8. Russian             : median = 100.00, std distance =  43.50\n",
      "9. European            : median = 164.00, std distance =  80.50\n"
     ]
    }
   ],
   "source": [
    "print_metrics(bot_comments, [\"UK\", \"United Kingdom\", \"Britain\"])"
   ]
  },
  {
   "cell_type": "code",
   "execution_count": 220,
   "id": "4e90accf",
   "metadata": {
    "scrolled": true
   },
   "outputs": [
    {
     "name": "stdout",
     "output_type": "stream",
     "text": [
      "The 10 nearest adjectives to the word ['media', 'CNN', 'MSNBC', 'NBC', 'mainstream']\n",
      "By mean distance:\n",
      "1. fake                : mean distance =   2.80, std distance =   1.83\n",
      "2. much                : mean distance =   3.00, std distance =   1.00\n",
      "3. delusional          : mean distance =   5.00, std distance =   1.00\n",
      "4. liberal             : mean distance =   5.00, std distance =   1.00\n",
      "5. full                : mean distance =   5.67, std distance =   0.94\n",
      "6. good                : mean distance =   6.00, std distance =   2.00\n",
      "7. western             : mean distance =   6.50, std distance =   6.18\n",
      "8. real                : mean distance =  10.00, std distance =   3.74\n",
      "9. stupid              : mean distance =  12.33, std distance =   9.84\n",
      "10. Russian             : mean distance =  13.80, std distance =   5.56\n",
      "\n",
      "By median distance:\n",
      "1. fake                : median =   2.00, std distance =   1.83\n",
      "2. much                : median =   4.00, std distance =   1.00\n",
      "3. western             : median =   5.00, std distance =   6.18\n",
      "4. full                : median =   5.00, std distance =   0.94\n",
      "5. delusional          : median =   6.00, std distance =   1.00\n",
      "6. liberal             : median =   6.00, std distance =   1.00\n",
      "7. good                : median =   8.00, std distance =   2.00\n",
      "8. more                : median =  10.00, std distance =  15.43\n",
      "9. stupid              : median =  11.00, std distance =   9.84\n",
      "10. real                : median =  12.00, std distance =   3.74\n"
     ]
    }
   ],
   "source": [
    "print_metrics(bot_comments, [\"media\", \"CNN\", \"MSNBC\", \"NBC\", \"mainstream\"])"
   ]
  },
  {
   "cell_type": "code",
   "execution_count": 199,
   "id": "548ccf33",
   "metadata": {},
   "outputs": [
    {
     "name": "stdout",
     "output_type": "stream",
     "text": [
      "Trump faced Covid that hurt him.\n",
      "Trump was useful to Putin and Putin played him like a father plays a stupid child. But Trump could not give Putin the fracking technology he wanted.  \n",
      "\n",
      "Unlike Russia, the American President is a lot more controlled by Congress and the Constitution than Putin.\n",
      "\n",
      "Still Trump feasted on the idea of himself as the  miraculous President....Until a real problem taking real leadership and real intelligence and real experience came along. Suddenly all the showboating, all the ballyhoo, all the lying meant nothing. Covid said hello to The Donald and The Donald was stuck for an answer.\n",
      "\n",
      "Only in America could such a man be elected.  It was the outdated and dangerous Electoral College,  Russia and racial spite that put Trump into office. All three are mistakes we should have avoided. \n",
      "\n",
      "What happened to America's ability to detect a charlatan? What blinding force of nincompoopery controls the thinking of voters who just don't  know the facts but persist in voting for leaders who have no regard for the suffering of citizens? What good did Trump do? Give wealthy people tax breaks? Give wealthy corporations insanely lucrative tax breaks? Come within one vote of repealing the Affordable Care Act - returning us to pre-existing conditions,  being kicked off coverage if you are sick, extraordinary profitability for private for profit insurance companies?\n",
      "\n",
      "Come on, guys. Trump is a moron. Shun him and his toadies  like the plague.\n",
      "So what use is UN? They bark on behalf of hammas also the ccp back in the covid days but do nothing about RUs' descusting behaviour, RU are no better than hammms.\n",
      "It's easy to critize other countries, yeah people go to prison for anti war rethoric, I believe in my country (Netherlands) as in the majority of Western countries it would also be illegal during actual war times!\n",
      "I won't forget like the idiots how during covid suddenly we lost our fundamental \"rights\" (they appeared to privilages not rights) like the right to demonstrate (everybody who tried that got beaten up hard) or to worship at a church/temple, to gather with family in your OWN house... \n",
      "\n",
      "So if we wage war for the very survival of our nation, we go back to WW2 times probably....\n",
      "$60 billion missing aid ? Wow Zelensky you are doing exactly what Richie Sunak did during covid lockdowns here in the UK. $60 billion missing in the UK too during Covid lockdowns.\n",
      "Alexei Navalny: another victim of the covid vaccine.\n"
     ]
    }
   ],
   "source": [
    "# what's up with the COVID in the comments?\n",
    "for covid_comment in list(filter(lambda c: \"covid\" in c.lower(), bot_comments)):\n",
    "    print(covid_comment)"
   ]
  },
  {
   "cell_type": "code",
   "execution_count": null,
   "id": "ce4ec4f7",
   "metadata": {},
   "outputs": [],
   "source": []
  }
 ],
 "metadata": {
  "kernelspec": {
   "display_name": "Python 3 (ipykernel)",
   "language": "python",
   "name": "python3"
  },
  "language_info": {
   "codemirror_mode": {
    "name": "ipython",
    "version": 3
   },
   "file_extension": ".py",
   "mimetype": "text/x-python",
   "name": "python",
   "nbconvert_exporter": "python",
   "pygments_lexer": "ipython3",
   "version": "3.9.7"
  }
 },
 "nbformat": 4,
 "nbformat_minor": 5
}
